{
  "nbformat": 4,
  "nbformat_minor": 0,
  "metadata": {
    "colab": {
      "name": "BanqueteFilosofos.ipynb",
      "provenance": [],
      "collapsed_sections": []
    },
    "kernelspec": {
      "name": "python3",
      "display_name": "Python 3"
    }
  },
  "cells": [
    {
      "cell_type": "code",
      "metadata": {
        "id": "lzyH5wORnEPl",
        "colab_type": "code",
        "colab": {}
      },
      "source": [
        "import math\n",
        "import numpy as np\n",
        "import time\n",
        "import multiprocessing as mp\n",
        "\n",
        "fisicos = 6\n",
        "tenedores = math.floor(fisicos/2) #los turnos \n",
        "\n",
        "\n",
        "fila = np.array(range(fisicos))\n",
        "\n",
        "#bandera = mp.Value('i', 0)\n",
        "\n",
        "def par(fila):\n",
        "\n",
        "  comen = []\n",
        "  noComen = []\n",
        "  \n",
        "  for i in fila:\n",
        "    if i % 2 == 0:\n",
        "      comen.append(i) #tienen tenedores\n",
        "    else:\n",
        "      noComen.append(i) #esperan tenedores\n",
        "    \n",
        "  tiempo = np.random.rand(1)[0] #tiempo que tardan en comer\n",
        "  time.sleep(tiempo)\n",
        "  \n",
        "  print('los fisicos ', comen, 'ya terminaron y ceden el turno')\n",
        "  \n",
        "  comen = []\n",
        "  noComen = []\n",
        "  \n",
        "  for i in fila:\n",
        "    if i % 2 == 1:\n",
        "      comen.append(i) #tienen tenedores\n",
        "    else:\n",
        "      noComen.append(i) #esperan tenedores\n",
        "      \n",
        "  tiempo = np.random.rand(1)[0] #tiempo que tardan en comer\n",
        "  time.sleep(tiempo)\n",
        "\n",
        "  print('los fisicos ', comen, 'ya terminaron y ceden el turno')\n",
        "  \n",
        "  \n"
      ],
      "execution_count": 0,
      "outputs": []
    },
    {
      "cell_type": "code",
      "metadata": {
        "id": "atjitW7MrPOi",
        "colab_type": "code",
        "outputId": "2ce79e8c-d3ea-4aa2-8055-865460b4463b",
        "colab": {
          "base_uri": "https://localhost:8080/",
          "height": 642
        }
      },
      "source": [
        "class Filosofo(mp.Process):\n",
        "  \n",
        "    def __init__(self, nombre, tenedores, lock): #constructor\n",
        "      \n",
        "        self.tiempo = np.random.rand(1)[0]\n",
        "        self.nivHambre = 5\n",
        "        self.tenedores = tenedores\n",
        "        self.lock = lock\n",
        "        self.nombre = nombre\n",
        "        super(Filosofo, self).__init__()\n",
        "   \n",
        "    def comer(self):\n",
        "      \n",
        "      self.nivHambre -= 1\n",
        "      print('El filosofo numero ', self.nombre, 'comio y su nivel de hambre es ', self.nivHambre)\n",
        "      \n",
        "    def run(self):\n",
        "      \n",
        "      print('El filosofo ', self.nombre ,' tiene nivel de hambre', self.nivHambre)\n",
        "      while self.nivHambre > 0:\n",
        "        \n",
        "        if self.tenedores.value != 0:\n",
        "          #self.lock.acquire() #bloquea el recurso\n",
        "          self.tenedores.value -= 1\n",
        "          print(\"tenedores\",self.tenedores.value)\n",
        "          self.comer()\n",
        "          self.tenedores.value = self.tenedores.value + 1 \n",
        "          #self.lock.release() #libera el recurso\n",
        "      print('Termino de comer el filosofo numero ', self.nombre)\n",
        "\n",
        "  #crearíamos una funcion comer y una funcion hijos\n",
        "if __name__ == '__main__':\n",
        "\n",
        "  lock = mp.Lock()\n",
        "  filosofos = []\n",
        "  tenedores = mp.Value('i', 2) #variable compartida\n",
        "\n",
        "  for i in range(3):\n",
        "    \n",
        "    filosofos.append(Filosofo(i, tenedores, lock))\n",
        "    filosofos[i].start()\n",
        "      \n",
        "  for i in range(3):\n",
        "    filosofos[i].join()"
      ],
      "execution_count": 0,
      "outputs": [
        {
          "output_type": "stream",
          "text": [
            "El filosofo  0  tiene nivel de hambre 5\n",
            "tenedores 1\n",
            "El filosofo numero  0 comio y su nivel de hambre es  4\n",
            "El filosofo  1  tiene nivel de hambre 5\n",
            "tenedores 1\n",
            "tenedores 0\n",
            "El filosofo  2  tiene nivel de hambre 5\n",
            "El filosofo numero  1 comio y su nivel de hambre es  4\n",
            "El filosofo numero  0 comio y su nivel de hambre es  3\n",
            "tenedores 0\n",
            "tenedores 0\n",
            "El filosofo numero  0 comio y su nivel de hambre es  2\n",
            "El filosofo numero  1 comio y su nivel de hambre es  3\n",
            "tenedores 0\n",
            "tenedores 0\n",
            "El filosofo numero  0 comio y su nivel de hambre es  1\n",
            "tenedores 0\n",
            "El filosofo numero  1 comio y su nivel de hambre es  2\n",
            "tenedores 0\n",
            "El filosofo numero  0 comio y su nivel de hambre es  0\n",
            "Termino de comer el filosofo numero  0\n",
            "tenedores 0\n",
            "El filosofo numero  1 comio y su nivel de hambre es  1\n",
            "El filosofo numero  2 comio y su nivel de hambre es  4\n",
            "tenedores 0\n",
            "El filosofo numero  2 comio y su nivel de hambre es  3\n",
            "tenedores 0\n",
            "El filosofo numero  2 comio y su nivel de hambre es  2\n",
            "tenedores 0\n",
            "El filosofo numero  2 comio y su nivel de hambre es  1\n",
            "tenedores 0\n",
            "tenedores 0\n",
            "El filosofo numero  2 comio y su nivel de hambre es  0\n",
            "Termino de comer el filosofo numero  2\n",
            "El filosofo numero  1 comio y su nivel de hambre es  0\n",
            "Termino de comer el filosofo numero  1\n"
          ],
          "name": "stdout"
        }
      ]
    },
    {
      "cell_type": "code",
      "metadata": {
        "id": "Xv6ZVb23bzLx",
        "colab_type": "code",
        "colab": {}
      },
      "source": [
        ""
      ],
      "execution_count": 0,
      "outputs": []
    }
  ]
}