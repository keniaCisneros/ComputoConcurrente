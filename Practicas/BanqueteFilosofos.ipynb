{
  "nbformat": 4,
  "nbformat_minor": 0,
  "metadata": {
    "colab": {
      "name": "BanqueteFilosofos.ipynb",
      "provenance": [],
      "collapsed_sections": []
    },
    "kernelspec": {
      "name": "python3",
      "display_name": "Python 3"
    }
  },
  "cells": [
    {
      "cell_type": "code",
      "metadata": {
        "id": "lzyH5wORnEPl",
        "colab_type": "code",
        "colab": {
          "base_uri": "https://localhost:8080/",
          "height": 52
        },
        "outputId": "a75732c2-d18f-4b93-acfd-bc8c2610386d"
      },
      "source": [
        "import math\n",
        "import numpy as np\n",
        "import time\n",
        "import multiprocessing as mp\n",
        "\n",
        "fisicos = 6\n",
        "tenedores = math.floor(fisicos/2) #los turnos \n",
        "\n",
        "\n",
        "fila = np.array(range(fisicos))\n",
        "\n",
        "#bandera = mp.Value('i', 0)\n",
        "\n",
        "def par(fila):\n",
        "\n",
        "  comen = []\n",
        "  noComen = []\n",
        "  \n",
        "  for i in fila:\n",
        "    if i % 2 == 0:\n",
        "      comen.append(i) #tienen tenedores\n",
        "    else:\n",
        "      noComen.append(i) #esperan tenedores\n",
        "    \n",
        "  tiempo = np.random.rand(1)[0] #tiempo que tardan en comer\n",
        "  time.sleep(tiempo)\n",
        "  \n",
        "  print('los fisicos ', comen, 'ya terminaron y ceden el turno')\n",
        "  \n",
        "  comen = []\n",
        "  noComen = []\n",
        "  \n",
        "  for i in fila:\n",
        "    if i % 2 == 1:\n",
        "      comen.append(i) #tienen tenedores\n",
        "    else:\n",
        "      noComen.append(i) #esperan tenedores\n",
        "      \n",
        "  tiempo = np.random.rand(1)[0] #tiempo que tardan en comer\n",
        "  time.sleep(tiempo)\n",
        "\n",
        "  print('los fisicos ', comen, 'ya terminaron y ceden el turno')\n",
        "  \n",
        "  \n"
      ],
      "execution_count": 18,
      "outputs": [
        {
          "output_type": "stream",
          "text": [
            "los fisicos  [0, 2, 4] ya terminaron y ceden el turno\n",
            "los fisicos  [1, 3, 5] ya terminaron y ceden el turno\n"
          ],
          "name": "stdout"
        }
      ]
    },
    {
      "cell_type": "code",
      "metadata": {
        "id": "atjitW7MrPOi",
        "colab_type": "code",
        "colab": {
          "base_uri": "https://localhost:8080/",
          "height": 219
        },
        "outputId": "2c5d7ac8-eb74-4fc5-c4d4-f24f73f6f1ba"
      },
      "source": [
        "class filosofo(multiprocessing.Process):\n",
        "    def __init__(self):\n",
        "        super(filosofo, self).__init__()\n",
        "\n",
        "    def run(self):\n",
        "        nivHambre = 5\n",
        "        \n",
        "  \n",
        "#crearíamos una funcion comer y una funcion hijos\n",
        "def filosofos():\n",
        "  f1 = mp.Process(target = comer, args = (4,)) \n",
        "  f2 = mp.Process(target = comer, args = (4,))\n",
        "  f3 = mp.Process(target = comer, args = (4,))\n",
        "  f3 = mp.Process(target = comer, args = (4,))\n",
        "  f4 = mp.Process(target = comer, args = (4,))\n",
        "  f5 = mp.Process(target = comer, args = (4,))\n",
        "  f6 = mp.Process(target = comer, args = (4,))\n",
        "  \n",
        "  f1.start()\n",
        "  f2.start()\n",
        "  f3.start()\n",
        "  f4.start()\n",
        "  f5.start()\n",
        "  f6.start()\n",
        "  \n",
        "  f1.join()\n",
        "  f2.join()\n",
        "  f3.join()\n",
        "  f4.join()\n",
        "  f5.join()\n",
        "  f6.join()\n",
        "\n",
        "Padre = mp.Process(target = hijos)\n",
        "Padre.start()"
      ],
      "execution_count": 19,
      "outputs": [
        {
          "output_type": "error",
          "ename": "NameError",
          "evalue": "ignored",
          "traceback": [
            "\u001b[0;31m---------------------------------------------------------------------------\u001b[0m",
            "\u001b[0;31mNameError\u001b[0m                                 Traceback (most recent call last)",
            "\u001b[0;32m<ipython-input-19-aa47131c9b2b>\u001b[0m in \u001b[0;36m<module>\u001b[0;34m()\u001b[0m\n\u001b[1;32m     14\u001b[0m   \u001b[0mp3\u001b[0m\u001b[0;34m.\u001b[0m\u001b[0mjoin\u001b[0m\u001b[0;34m(\u001b[0m\u001b[0;34m)\u001b[0m\u001b[0;34m\u001b[0m\u001b[0;34m\u001b[0m\u001b[0m\n\u001b[1;32m     15\u001b[0m \u001b[0;34m\u001b[0m\u001b[0m\n\u001b[0;32m---> 16\u001b[0;31m \u001b[0mPadre\u001b[0m \u001b[0;34m=\u001b[0m \u001b[0mmp\u001b[0m\u001b[0;34m.\u001b[0m\u001b[0mProcess\u001b[0m\u001b[0;34m(\u001b[0m\u001b[0mtarget\u001b[0m \u001b[0;34m=\u001b[0m \u001b[0mhijos\u001b[0m\u001b[0;34m)\u001b[0m\u001b[0;34m\u001b[0m\u001b[0;34m\u001b[0m\u001b[0m\n\u001b[0m\u001b[1;32m     17\u001b[0m \u001b[0mPadre\u001b[0m\u001b[0;34m.\u001b[0m\u001b[0mstart\u001b[0m\u001b[0;34m(\u001b[0m\u001b[0;34m)\u001b[0m\u001b[0;34m\u001b[0m\u001b[0;34m\u001b[0m\u001b[0m\n",
            "\u001b[0;31mNameError\u001b[0m: name 'hijos' is not defined"
          ]
        }
      ]
    },
    {
      "cell_type": "code",
      "metadata": {
        "id": "t3Bym2g56XbI",
        "colab_type": "code",
        "colab": {}
      },
      "source": [
        "from google.colab import files\n",
        "\n",
        "with open('example.txt', 'w') as f:\n",
        "  f.write('some content')\n",
        "\n",
        "files.download('example.txt')"
      ],
      "execution_count": 0,
      "outputs": []
    },
    {
      "cell_type": "code",
      "metadata": {
        "id": "YzNa3dPE6Zvu",
        "colab_type": "code",
        "colab": {}
      },
      "source": [
        "!pip install -q matplotlib-venn"
      ],
      "execution_count": 0,
      "outputs": []
    },
    {
      "cell_type": "code",
      "metadata": {
        "id": "SZHkrcsf6Zuc",
        "colab_type": "code",
        "colab": {}
      },
      "source": [
        "!apt-get -qq install -y libfluidsynth1"
      ],
      "execution_count": 0,
      "outputs": []
    }
  ]
}