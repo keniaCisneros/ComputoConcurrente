{
  "nbformat": 4,
  "nbformat_minor": 0,
  "metadata": {
    "colab": {
      "name": "ProducerConsumer.ipynb",
      "provenance": [],
      "collapsed_sections": []
    },
    "kernelspec": {
      "name": "python3",
      "display_name": "Python 3"
    }
  },
  "cells": [
    {
      "cell_type": "code",
      "metadata": {
        "id": "rZTfDeVWq-WJ",
        "colab_type": "code",
        "outputId": "1d21a3ed-8574-458f-92ea-bd7a5bddae1e",
        "colab": {
          "base_uri": "https://localhost:8080/",
          "height": 235
        }
      },
      "source": [
        "import multiprocessing as mp\n",
        "import time\n",
        "\n",
        "class Producer(mp.Process):\n",
        "  def __init__(self, cola, item, total):\n",
        "    self.cola = cola\n",
        "    self.item = item\n",
        "    self.total = total\n",
        "    super(Producer, self).__init__()\n",
        "  def run(self):\n",
        "    while (True):\n",
        "      item = produceItem()\n",
        "      if(self.item == total):\n",
        "        sleep()\n",
        "      self.cola.put(item)\n",
        "      self.item += 1\n",
        "      if(self.item == 1):\n",
        "        wakeup(Consumer)\n",
        "\n",
        "class Consumer(mp.Process):\n",
        "  def __init__(self, cola, item, total):\n",
        "    self.cola = cola\n",
        "    self.item = item\n",
        "    self.total = total\n",
        "    super(Consumer, self).__init__()\n",
        "  def run(self):\n",
        "    while (True):\n",
        "      if(self.item == 0):\n",
        "        sleep()\n",
        "        #remueve y retorna un item de la cola\n",
        "        item = self.cola.get(block=True, timeout=None)\n",
        "      self.item -= 1\n",
        "      if(self.item == total - 1):\n",
        "        wakeup(Producer)\n",
        "      consumeItem(item)\n",
        "\n",
        "if __name__ == \"__main__\":\n",
        "  BF = mp.Queue(maxsize = 1)\n",
        "  #num de elementos en el buffer\n",
        "  itemCount = BF<T>()\n",
        "  total = mp.Value('i', qsize())\n",
        "  product = Producer(BF, itemCount, total)\n",
        "  consum = Consumer(BF, itemCount, total)\n",
        "  product.start()\n",
        "  consum.start()\n",
        "  product.join()\n",
        "  consum.join() "
      ],
      "execution_count": 4,
      "outputs": [
        {
          "output_type": "error",
          "ename": "NameError",
          "evalue": "ignored",
          "traceback": [
            "\u001b[0;31m---------------------------------------------------------------------------\u001b[0m",
            "\u001b[0;31mNameError\u001b[0m                                 Traceback (most recent call last)",
            "\u001b[0;32m<ipython-input-4-0bc42120a97f>\u001b[0m in \u001b[0;36m<module>\u001b[0;34m()\u001b[0m\n\u001b[1;32m     38\u001b[0m   \u001b[0mBF\u001b[0m \u001b[0;34m=\u001b[0m \u001b[0mmp\u001b[0m\u001b[0;34m.\u001b[0m\u001b[0mQueue\u001b[0m\u001b[0;34m(\u001b[0m\u001b[0mmaxsize\u001b[0m \u001b[0;34m=\u001b[0m \u001b[0;36m1\u001b[0m\u001b[0;34m)\u001b[0m\u001b[0;34m\u001b[0m\u001b[0;34m\u001b[0m\u001b[0m\n\u001b[1;32m     39\u001b[0m   \u001b[0;31m#num de elementos en el buffer\u001b[0m\u001b[0;34m\u001b[0m\u001b[0;34m\u001b[0m\u001b[0;34m\u001b[0m\u001b[0m\n\u001b[0;32m---> 40\u001b[0;31m   \u001b[0mitemCount\u001b[0m \u001b[0;34m=\u001b[0m \u001b[0mBF\u001b[0m\u001b[0;34m<\u001b[0m\u001b[0mT\u001b[0m\u001b[0;34m>\u001b[0m\u001b[0;34m(\u001b[0m\u001b[0;34m)\u001b[0m\u001b[0;34m\u001b[0m\u001b[0;34m\u001b[0m\u001b[0m\n\u001b[0m\u001b[1;32m     41\u001b[0m   \u001b[0mtotal\u001b[0m \u001b[0;34m=\u001b[0m \u001b[0mmp\u001b[0m\u001b[0;34m.\u001b[0m\u001b[0mValue\u001b[0m\u001b[0;34m(\u001b[0m\u001b[0;34m'i'\u001b[0m\u001b[0;34m,\u001b[0m \u001b[0mqsize\u001b[0m\u001b[0;34m(\u001b[0m\u001b[0;34m)\u001b[0m\u001b[0;34m)\u001b[0m\u001b[0;34m\u001b[0m\u001b[0;34m\u001b[0m\u001b[0m\n\u001b[1;32m     42\u001b[0m   \u001b[0mproduct\u001b[0m \u001b[0;34m=\u001b[0m \u001b[0mProducer\u001b[0m\u001b[0;34m(\u001b[0m\u001b[0mBF\u001b[0m\u001b[0;34m,\u001b[0m \u001b[0mitemCount\u001b[0m\u001b[0;34m,\u001b[0m \u001b[0mtotal\u001b[0m\u001b[0;34m)\u001b[0m\u001b[0;34m\u001b[0m\u001b[0;34m\u001b[0m\u001b[0m\n",
            "\u001b[0;31mNameError\u001b[0m: name 'T' is not defined"
          ]
        }
      ]
    }
  ]
}