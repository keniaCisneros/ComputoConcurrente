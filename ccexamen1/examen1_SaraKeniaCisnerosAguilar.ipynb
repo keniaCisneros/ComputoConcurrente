{
 "cells": [
  {
   "cell_type": "code",
   "execution_count": 2,
   "metadata": {},
   "outputs": [
    {
     "name": "stdout",
     "output_type": "stream",
     "text": [
      "r\n",
      "r\n",
      "r\n",
      "t\n",
      "g\n",
      "g\n",
      "g\n",
      "t\n",
      "g\n",
      "t\n",
      "g\n",
      "t\n"
     ]
    }
   ],
   "source": [
    "from multiprocessing import Process, Pipe \n",
    "import multiprocessing as mp\n",
    "import numpy as np\n",
    "\n",
    "def env(n, s):\n",
    "    for i in range(n):\n",
    "      print(s)\n",
    "      \n",
    "\n",
    "if __name__ == '__main__':\n",
    "    padre, hijo = Pipe()\n",
    "    p1 = mp.Process(target=env,args=(3,'r'))\n",
    "    p2 = mp.Process(target=env,args=(4,'t'))\n",
    "    p3 = mp.Process(target=env,args=(5,'g'))\n",
    "    p1.start()\n",
    "    p2.start()\n",
    "    p3.start()   \n",
    "    p1.join()\n",
    "    p2.join()\n",
    "    p3.join()  "
   ]
  },
  {
   "cell_type": "code",
   "execution_count": 1,
   "metadata": {},
   "outputs": [
    {
     "name": "stdout",
     "output_type": "stream",
     "text": [
      "r\n",
      "r\n",
      "r\n",
      "r\n",
      "t\n",
      "t\n",
      "t\n",
      "t\n",
      "t\n",
      "t\n",
      "t\n",
      "t\n",
      "t\n",
      "t\n",
      "g\n",
      "g\n",
      "g\n",
      "g\n",
      "g\n"
     ]
    }
   ],
   "source": [
    "from multiprocessing import Process, Pipe, Queue\n",
    "import multiprocessing as mp\n",
    "\n",
    "\n",
    "def env(n, s, q):\n",
    "    for i in range(n):\n",
    "      q.put(s)   \n",
    "\n",
    "if __name__ == '__main__':\n",
    "    padre, hijo = Pipe() \n",
    "    q = Queue()\n",
    "    p1 = mp.Process(target=env,args=(4,'r',q))\n",
    "    p2 = mp.Process(target=env,args=(10,'t',q))\n",
    "    p3 = mp.Process(target=env,args=(5,'g',q))\n",
    "    p1.start()\n",
    "    p2.start()\n",
    "    p3.start()   \n",
    "    p1.join()\n",
    "    p2.join()\n",
    "    p3.join()\n",
    "    \n",
    "    while not q.empty():\n",
    "      print(q.get())\n"
   ]
  },
  {
   "cell_type": "code",
   "execution_count": null,
   "metadata": {},
   "outputs": [],
   "source": []
  }
 ],
 "metadata": {
  "kernelspec": {
   "display_name": "Python 3",
   "language": "python",
   "name": "python3"
  },
  "language_info": {
   "codemirror_mode": {
    "name": "ipython",
    "version": 3
   },
   "file_extension": ".py",
   "mimetype": "text/x-python",
   "name": "python",
   "nbconvert_exporter": "python",
   "pygments_lexer": "ipython3",
   "version": "3.7.3"
  }
 },
 "nbformat": 4,
 "nbformat_minor": 2
}
